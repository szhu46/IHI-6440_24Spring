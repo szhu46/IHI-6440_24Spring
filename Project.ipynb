{
 "cells": [
  {
   "cell_type": "code",
   "execution_count": 3,
   "id": "ddf99b7f-9703-4a87-a66f-f25a0cf58fe5",
   "metadata": {},
   "outputs": [
    {
     "name": "stdout",
     "output_type": "stream",
     "text": [
      "Requirement already satisfied: fhiry in c:\\users\\queit\\anaconda3\\lib\\site-packages (3.2.2)\n",
      "Requirement already satisfied: pandas in c:\\users\\queit\\anaconda3\\lib\\site-packages (from fhiry) (1.5.3)\n",
      "Requirement already satisfied: db-dtypes in c:\\users\\queit\\anaconda3\\lib\\site-packages (from fhiry) (1.2.0)\n",
      "Requirement already satisfied: google-cloud-bigquery in c:\\users\\queit\\anaconda3\\lib\\site-packages (from fhiry) (3.19.0)\n",
      "Requirement already satisfied: tqdm in c:\\users\\queit\\anaconda3\\lib\\site-packages (from fhiry) (4.65.0)\n",
      "Requirement already satisfied: packaging>=17.0 in c:\\users\\queit\\anaconda3\\lib\\site-packages (from db-dtypes->fhiry) (23.0)\n",
      "Requirement already satisfied: pyarrow>=3.0.0 in c:\\users\\queit\\anaconda3\\lib\\site-packages (from db-dtypes->fhiry) (11.0.0)\n",
      "Requirement already satisfied: numpy>=1.16.6 in c:\\users\\queit\\anaconda3\\lib\\site-packages (from db-dtypes->fhiry) (1.24.3)\n",
      "Requirement already satisfied: python-dateutil>=2.8.1 in c:\\users\\queit\\anaconda3\\lib\\site-packages (from pandas->fhiry) (2.8.2)\n",
      "Requirement already satisfied: pytz>=2020.1 in c:\\users\\queit\\anaconda3\\lib\\site-packages (from pandas->fhiry) (2022.7)\n",
      "Requirement already satisfied: google-api-core[grpc]!=2.0.*,!=2.1.*,!=2.10.*,!=2.2.*,!=2.3.*,!=2.4.*,!=2.5.*,!=2.6.*,!=2.7.*,!=2.8.*,!=2.9.*,<3.0.0dev,>=1.34.1 in c:\\users\\queit\\anaconda3\\lib\\site-packages (from google-cloud-bigquery->fhiry) (2.17.1)\n",
      "Requirement already satisfied: google-auth<3.0.0dev,>=2.14.1 in c:\\users\\queit\\anaconda3\\lib\\site-packages (from google-cloud-bigquery->fhiry) (2.28.2)\n",
      "Requirement already satisfied: google-cloud-core<3.0.0dev,>=1.6.0 in c:\\users\\queit\\anaconda3\\lib\\site-packages (from google-cloud-bigquery->fhiry) (2.4.1)\n",
      "Requirement already satisfied: google-resumable-media<3.0dev,>=0.6.0 in c:\\users\\queit\\anaconda3\\lib\\site-packages (from google-cloud-bigquery->fhiry) (2.7.0)\n",
      "Requirement already satisfied: requests<3.0.0dev,>=2.21.0 in c:\\users\\queit\\anaconda3\\lib\\site-packages (from google-cloud-bigquery->fhiry) (2.31.0)\n",
      "Requirement already satisfied: colorama in c:\\users\\queit\\anaconda3\\lib\\site-packages (from tqdm->fhiry) (0.4.6)\n",
      "Requirement already satisfied: googleapis-common-protos<2.0.dev0,>=1.56.2 in c:\\users\\queit\\anaconda3\\lib\\site-packages (from google-api-core[grpc]!=2.0.*,!=2.1.*,!=2.10.*,!=2.2.*,!=2.3.*,!=2.4.*,!=2.5.*,!=2.6.*,!=2.7.*,!=2.8.*,!=2.9.*,<3.0.0dev,>=1.34.1->google-cloud-bigquery->fhiry) (1.63.0)\n",
      "Requirement already satisfied: protobuf!=3.20.0,!=3.20.1,!=4.21.0,!=4.21.1,!=4.21.2,!=4.21.3,!=4.21.4,!=4.21.5,<5.0.0.dev0,>=3.19.5 in c:\\users\\queit\\anaconda3\\lib\\site-packages (from google-api-core[grpc]!=2.0.*,!=2.1.*,!=2.10.*,!=2.2.*,!=2.3.*,!=2.4.*,!=2.5.*,!=2.6.*,!=2.7.*,!=2.8.*,!=2.9.*,<3.0.0dev,>=1.34.1->google-cloud-bigquery->fhiry) (4.25.3)\n",
      "Requirement already satisfied: grpcio<2.0dev,>=1.33.2 in c:\\users\\queit\\anaconda3\\lib\\site-packages (from google-api-core[grpc]!=2.0.*,!=2.1.*,!=2.10.*,!=2.2.*,!=2.3.*,!=2.4.*,!=2.5.*,!=2.6.*,!=2.7.*,!=2.8.*,!=2.9.*,<3.0.0dev,>=1.34.1->google-cloud-bigquery->fhiry) (1.62.1)\n",
      "Requirement already satisfied: grpcio-status<2.0.dev0,>=1.33.2 in c:\\users\\queit\\anaconda3\\lib\\site-packages (from google-api-core[grpc]!=2.0.*,!=2.1.*,!=2.10.*,!=2.2.*,!=2.3.*,!=2.4.*,!=2.5.*,!=2.6.*,!=2.7.*,!=2.8.*,!=2.9.*,<3.0.0dev,>=1.34.1->google-cloud-bigquery->fhiry) (1.62.1)\n",
      "Requirement already satisfied: cachetools<6.0,>=2.0.0 in c:\\users\\queit\\anaconda3\\lib\\site-packages (from google-auth<3.0.0dev,>=2.14.1->google-cloud-bigquery->fhiry) (5.3.3)\n",
      "Requirement already satisfied: pyasn1-modules>=0.2.1 in c:\\users\\queit\\anaconda3\\lib\\site-packages (from google-auth<3.0.0dev,>=2.14.1->google-cloud-bigquery->fhiry) (0.2.8)\n",
      "Requirement already satisfied: rsa<5,>=3.1.4 in c:\\users\\queit\\anaconda3\\lib\\site-packages (from google-auth<3.0.0dev,>=2.14.1->google-cloud-bigquery->fhiry) (4.9)\n",
      "Requirement already satisfied: google-crc32c<2.0dev,>=1.0 in c:\\users\\queit\\anaconda3\\lib\\site-packages (from google-resumable-media<3.0dev,>=0.6.0->google-cloud-bigquery->fhiry) (1.5.0)\n",
      "Requirement already satisfied: six>=1.5 in c:\\users\\queit\\anaconda3\\lib\\site-packages (from python-dateutil>=2.8.1->pandas->fhiry) (1.16.0)\n",
      "Requirement already satisfied: charset-normalizer<4,>=2 in c:\\users\\queit\\anaconda3\\lib\\site-packages (from requests<3.0.0dev,>=2.21.0->google-cloud-bigquery->fhiry) (2.0.4)\n",
      "Requirement already satisfied: idna<4,>=2.5 in c:\\users\\queit\\anaconda3\\lib\\site-packages (from requests<3.0.0dev,>=2.21.0->google-cloud-bigquery->fhiry) (3.4)\n",
      "Requirement already satisfied: urllib3<3,>=1.21.1 in c:\\users\\queit\\anaconda3\\lib\\site-packages (from requests<3.0.0dev,>=2.21.0->google-cloud-bigquery->fhiry) (1.26.16)\n",
      "Requirement already satisfied: certifi>=2017.4.17 in c:\\users\\queit\\anaconda3\\lib\\site-packages (from requests<3.0.0dev,>=2.21.0->google-cloud-bigquery->fhiry) (2020.6.20)\n",
      "Requirement already satisfied: pyasn1<0.5.0,>=0.4.6 in c:\\users\\queit\\anaconda3\\lib\\site-packages (from pyasn1-modules>=0.2.1->google-auth<3.0.0dev,>=2.14.1->google-cloud-bigquery->fhiry) (0.4.8)\n",
      "Note: you may need to restart the kernel to use updated packages.\n"
     ]
    }
   ],
   "source": [
    "# pip install torch torchvision"
   ]
  },
  {
   "cell_type": "code",
   "execution_count": 63,
   "id": "cd0d59c8",
   "metadata": {},
   "outputs": [],
   "source": [
    "import os\n",
    "import json\n",
    "import pandas as pd\n",
    "from datetime import datetime\n",
    "import torch\n",
    "import torch.nn as nn\n",
    "import torch.optim as optim\n",
    "from sklearn.model_selection import train_test_split\n",
    "from sklearn.impute import SimpleImputer\n",
    "from sklearn.preprocessing import OneHotEncoder, StandardScaler"
   ]
  },
  {
   "cell_type": "code",
   "execution_count": 64,
   "id": "4286c1a5",
   "metadata": {},
   "outputs": [
    {
     "name": "stdout",
     "output_type": "stream",
     "text": [
      "                                 PatientID  Birthdate Gender    Age  label\n",
      "0     ec0e5f5f-16ab-727f-b197-0de19a958fd5 1922-03-29      1  102.0      1\n",
      "1     09fa88ee-b168-8154-0d14-9112e48da9c3 1942-11-18      0   82.0      1\n",
      "2     02d7d46c-4547-4cc9-8b92-3be485999a0b 1949-01-10      0   75.0      1\n",
      "3     f4417827-662f-45a6-9e1e-e6af564866bd 1956-04-23      0   68.0      1\n",
      "4     0700620f-bdb2-6524-ad51-cc2e3eb0bcc0 1955-08-22      1   69.0      1\n",
      "...                                    ...        ...    ...    ...    ...\n",
      "3171  0a32ce42-b5fa-5a46-9206-5b4adf94e53b 1950-06-09      0   74.0      1\n",
      "3172  b6905f47-cf3b-4fe0-9487-6ce226edf941 1950-08-18      0   74.0      1\n",
      "3173  0fccd627-fee4-3fe4-9c86-902cd4cd4d2c 1934-06-14      0   90.0      1\n",
      "3174  35544423-a31f-261d-35c3-bd37f616452f 1970-10-15      0   54.0      1\n",
      "3175  d0a6bb67-fbe6-4253-b3f8-12e306c1e3fe 1956-03-09      0   68.0      1\n",
      "\n",
      "[3176 rows x 5 columns]\n"
     ]
    }
   ],
   "source": [
    "folder_path = 'Breast_Cancer_Positive_Sample'\n",
    "\n",
    "birth_dates = []\n",
    "genders = []\n",
    "patient_ids = []\n",
    "\n",
    "files = os.listdir(folder_path)\n",
    "\n",
    "for file_name in files:\n",
    "    file_path = os.path.join(folder_path, file_name)\n",
    "    with open(file_path, 'r', encoding='utf-8') as file:\n",
    "        data = json.load(file)\n",
    "    \n",
    "    patient_id = data['entry'][0]['resource']['id']\n",
    "    birth_date = data['entry'][0]['resource'].get('birthDate', 'NaN')\n",
    "    gender = data['entry'][0]['resource'].get('gender', 'NaN')\n",
    "    \n",
    "    patient_ids.append(patient_id)\n",
    "    birth_dates.append(birth_date)\n",
    "    genders.append(gender)\n",
    "\n",
    "df_positive = pd.DataFrame({'PatientID':patient_ids, 'Birthdate': birth_dates, 'Gender': genders})\n",
    "df_positive.dropna(inplace=True)\n",
    "df_positive['Birthdate'] = pd.to_datetime(df_positive['Birthdate'], format='%Y-%m-%d')\n",
    "current_year = datetime.now().year\n",
    "df_positive['Age'] = current_year - df_positive['Birthdate'].dt.year\n",
    "df_positive['Gender'] = df_positive['Gender'].replace({'male': 1, 'female': 0})\n",
    "df_positive = df_positive.assign(label=1)\n",
    "\n",
    "print(df_positive)"
   ]
  },
  {
   "cell_type": "code",
   "execution_count": 65,
   "id": "34584750-5f1d-4ec9-88d4-b152daa36d5f",
   "metadata": {},
   "outputs": [
    {
     "name": "stdout",
     "output_type": "stream",
     "text": [
      "                                 PatientID  Birthdate  Gender  Age  label\n",
      "0     9d98f98d-ada6-84e5-f39e-13cd57dfafe7 1932-04-17       1   92      0\n",
      "1     c03d39ba-ba9b-4fc7-a6cc-db154181f8c0 1954-12-15       1   70      0\n",
      "2     d2c605fc-fc07-81ed-242b-66330cbdd486 1968-01-02       0   56      0\n",
      "3     b3ad18dd-9466-e052-9c06-9d1055cdff64 1970-10-12       0   54      0\n",
      "4     abf45661-0226-820f-a32f-898459db5bd6 1939-01-27       0   85      0\n",
      "...                                    ...        ...     ...  ...    ...\n",
      "4328  aac2b95b-9bee-4a85-35d6-b88707a9c368 1941-05-28       0   83      0\n",
      "4329  08f5a962-838d-27ea-ecd0-2a25c6316b9e 1950-01-17       0   74      0\n",
      "4330  be87e04e-6639-5342-2571-a27815c6307b 1953-03-16       0   71      0\n",
      "4331  7245c2d1-34fd-0438-878c-32696a638f57 1942-09-07       0   82      0\n",
      "4332  2f1d925e-4a13-00b1-814a-7d2d966bf719 1962-08-14       0   62      0\n",
      "\n",
      "[4333 rows x 5 columns]\n"
     ]
    }
   ],
   "source": [
    "folder_path = 'Breast_Cancer_Negative_Sample'\n",
    "\n",
    "birth_dates = []\n",
    "genders = []\n",
    "patient_ids = []\n",
    "\n",
    "files = os.listdir(folder_path)\n",
    "\n",
    "for file_name in files:\n",
    "    file_path = os.path.join(folder_path, file_name)\n",
    "    with open(file_path, 'r', encoding='utf-8') as file:\n",
    "        data = json.load(file)\n",
    "    \n",
    "    patient_id = data['entry'][0]['resource']['id']\n",
    "    birth_date = data['entry'][0]['resource'].get('birthDate', 'NaN')\n",
    "    gender = data['entry'][0]['resource'].get('gender', 'NaN')\n",
    "    \n",
    "    patient_ids.append(patient_id)\n",
    "    birth_dates.append(birth_date)\n",
    "    genders.append(gender)\n",
    "\n",
    "df_negative = pd.DataFrame({'PatientID':patient_ids, 'Birthdate': birth_dates, 'Gender': genders})\n",
    "df_negative.dropna(inplace=True)\n",
    "df_negative['Birthdate'] = pd.to_datetime(df_negative['Birthdate'], format='%Y-%m-%d')\n",
    "current_year = datetime.now().year\n",
    "df_negative['Age'] = current_year - df_negative['Birthdate'].dt.year\n",
    "df_negative['Gender'] = df_negative['Gender'].replace({'male': 1, 'female': 0})\n",
    "df_negative = df_negative.assign(label=0)\n",
    "\n",
    "print(df_negative)"
   ]
  },
  {
   "cell_type": "code",
   "execution_count": 141,
   "id": "9fcaabf6",
   "metadata": {},
   "outputs": [],
   "source": [
    "df_combined = pd.concat([df_positive, df_negative], ignore_index=True)\n",
    "df_combined = df_combined.dropna()\n",
    "X = df_combined[['Gender','Age']]\n",
    "y = df_combined['label']"
   ]
  },
  {
   "cell_type": "code",
   "execution_count": 169,
   "id": "77ef82e7",
   "metadata": {},
   "outputs": [],
   "source": [
    "X_train, X_test, y_train, y_test = train_test_split(X, y, test_size=0.01, random_state=42)\n",
    "\n",
    "scaler = StandardScaler()\n",
    "X_train_scaled = scaler.fit_transform(X_train)\n",
    "X_test_scaled = scaler.transform(X_test)\n",
    "\n",
    "X_train_tensor = torch.tensor(X_train_scaled, dtype=torch.float32)\n",
    "y_train_tensor = torch.tensor(y_train.values, dtype=torch.float32).view(-1, 1)\n",
    "X_test_tensor = torch.tensor(X_test_scaled, dtype=torch.float32)\n",
    "y_test_tensor = torch.tensor(y_test.values, dtype=torch.float32).view(-1, 1)"
   ]
  },
  {
   "cell_type": "code",
   "execution_count": 170,
   "id": "bac36f71",
   "metadata": {},
   "outputs": [
    {
     "name": "stdout",
     "output_type": "stream",
     "text": [
      "Accuracy: 0.7763\n"
     ]
    }
   ],
   "source": [
    "class BreastCancerRiskModel(nn.Module):\n",
    "    def __init__(self, input_size):\n",
    "        super(BreastCancerRiskModel, self).__init__()\n",
    "        self.fc1 = nn.Linear(input_size, 128)  \n",
    "        self.fc2 = nn.Linear(128, 128)  \n",
    "        self.fc3 = nn.Linear(128, 128)  \n",
    "        self.fc_final = nn.Linear(128, 1)\n",
    "        self.sigmoid = nn.Sigmoid()\n",
    "\n",
    "    def forward(self, x):\n",
    "        x = torch.relu(self.fc1(x))\n",
    "        x = torch.relu(self.fc2(x))\n",
    "        x = torch.relu(self.fc3(x))\n",
    "        x = self.sigmoid(self.fc_final(x))\n",
    "        return x\n",
    "\n",
    "model = BreastCancerRiskModel(input_size=X_train_tensor.shape[1])\n",
    "\n",
    "criterion = nn.BCELoss()\n",
    "optimizer = optim.Adam(model.parameters(), lr=0.01)\n",
    "\n",
    "num_epochs = 50\n",
    "for epoch in range(num_epochs):\n",
    "    outputs = model(X_train_tensor)\n",
    "    loss = criterion(outputs, y_train_tensor)\n",
    "        \n",
    "    optimizer.zero_grad()\n",
    "    loss.backward()\n",
    "    optimizer.step()\n",
    "        \n",
    "with torch.no_grad():\n",
    "    model.eval()\n",
    "    outputs = model(X_test_tensor)\n",
    "    # Convert probabilities to binary predictions using a threshold of 0.5\n",
    "    predicted_labels = (outputs >= 0.5).float()\n",
    "    accuracy = (predicted_labels == y_test_tensor).float().mean().item()\n",
    "    print(f'Accuracy: {accuracy:.4f}')\n"
   ]
  },
  {
   "cell_type": "code",
   "execution_count": null,
   "id": "4a6df2b6",
   "metadata": {},
   "outputs": [
    {
     "name": "stdout",
     "output_type": "stream",
     "text": [
      "Please enter your age: 80\n",
      "Please enter your gender (male/female): female\n",
      "The estimated breast cancer risk for the patient based on their age and gender is: 0.8170\n",
      "Please enter your age: 80\n",
      "Please enter your gender (male/female): male\n",
      "The estimated breast cancer risk for the patient based on their age and gender is: 0.8168\n",
      "Please enter your age: 20\n",
      "Please enter your gender (male/female): female\n",
      "The estimated breast cancer risk for the patient based on their age and gender is: 0.5938\n",
      "Please enter your age: 50\n",
      "Please enter your gender (male/female): female\n",
      "The estimated breast cancer risk for the patient based on their age and gender is: 0.7188\n"
     ]
    }
   ],
   "source": [
    "model = BreastCancerRiskModel(input_size=2)\n",
    "\n",
    "while True:\n",
    "    try:\n",
    "        age = float(input(\"Please enter your age: \"))\n",
    "        gender = input(\"Please enter your gender (male/female): \")\n",
    "        gender = 1 if gender.lower() == 'male' else 0\n",
    "\n",
    "        input_data = torch.tensor([[age, gender]], dtype=torch.float32)\n",
    "        \n",
    "        # Step 3: Pass the preprocessed data through the model to get the risk score\n",
    "        with torch.no_grad():\n",
    "            model.eval()\n",
    "            risk_score = model(input_data)\n",
    "\n",
    "        # Step 4: Interpret the model output\n",
    "        # Print the risk score\n",
    "        print(f\"The estimated breast cancer risk for the patient based on their age and gender is: {risk_score.item():.4f}\")\n",
    "\n",
    "    except ValueError:\n",
    "        print(\"Please enter a valid age.\")"
   ]
  },
  {
   "cell_type": "code",
   "execution_count": null,
   "id": "b9bad488",
   "metadata": {},
   "outputs": [],
   "source": []
  }
 ],
 "metadata": {
  "kernelspec": {
   "display_name": "Python 3 (ipykernel)",
   "language": "python",
   "name": "python3"
  },
  "language_info": {
   "codemirror_mode": {
    "name": "ipython",
    "version": 3
   },
   "file_extension": ".py",
   "mimetype": "text/x-python",
   "name": "python",
   "nbconvert_exporter": "python",
   "pygments_lexer": "ipython3",
   "version": "3.11.4"
  }
 },
 "nbformat": 4,
 "nbformat_minor": 5
}
